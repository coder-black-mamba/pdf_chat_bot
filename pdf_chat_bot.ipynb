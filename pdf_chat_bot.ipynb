{
 "cells": [
  {
   "cell_type": "code",
   "execution_count": 17,
   "id": "2613c471",
   "metadata": {},
   "outputs": [],
   "source": [
    "import PyPDF2\n",
    "from langchain.text_splitter import RecursiveCharacterTextSplitter\n",
    "# from langchain.embeddings import OpenAIEmbeddings\n",
    "from langchain.vectorstores import FAISS\n",
    "from langchain.chains import ConversationalRetrievalChain\n",
    "from langchain_groq import ChatGroq\n",
    "import os\n",
    "from langchain_huggingface import HuggingFaceEmbeddings"
   ]
  },
  {
   "cell_type": "code",
   "execution_count": 14,
   "id": "a9a64027",
   "metadata": {},
   "outputs": [],
   "source": [
    "from key import GROQ_API_KEY"
   ]
  },
  {
   "cell_type": "code",
   "execution_count": 15,
   "id": "501bd37e",
   "metadata": {},
   "outputs": [],
   "source": [
    "#!pip install PyPDF2"
   ]
  },
  {
   "cell_type": "markdown",
   "id": "73cd4543",
   "metadata": {},
   "source": [
    "## Fuck You Open AI Embeddings"
   ]
  },
  {
   "cell_type": "code",
   "execution_count": 16,
   "id": "c1b43359",
   "metadata": {
    "collapsed": true
   },
   "outputs": [
    {
     "name": "stdout",
     "output_type": "stream",
     "text": [
      "Collecting langchain-huggingface\n",
      "  Obtaining dependency information for langchain-huggingface from https://files.pythonhosted.org/packages/9d/f8/77a303ddc492f6eed8bf0979f2bc6db4fa6eb1089c5e9f0f977dd87bc9c2/langchain_huggingface-0.1.2-py3-none-any.whl.metadata\n",
      "  Using cached langchain_huggingface-0.1.2-py3-none-any.whl.metadata (1.3 kB)\n",
      "Requirement already satisfied: huggingface-hub>=0.23.0 in /home/oem/anaconda3/lib/python3.11/site-packages (from langchain-huggingface) (0.26.2)\n",
      "Requirement already satisfied: langchain-core<0.4.0,>=0.3.15 in /home/oem/anaconda3/lib/python3.11/site-packages (from langchain-huggingface) (0.3.15)\n",
      "Collecting sentence-transformers>=2.6.0 (from langchain-huggingface)\n",
      "  Obtaining dependency information for sentence-transformers>=2.6.0 from https://files.pythonhosted.org/packages/8b/c8/990e22a465e4771338da434d799578865d6d7ef1fdb50bd844b7ecdcfa19/sentence_transformers-3.3.1-py3-none-any.whl.metadata\n",
      "  Using cached sentence_transformers-3.3.1-py3-none-any.whl.metadata (10 kB)\n",
      "Requirement already satisfied: tokenizers>=0.19.1 in /home/oem/anaconda3/lib/python3.11/site-packages (from langchain-huggingface) (0.20.3)\n",
      "Requirement already satisfied: transformers>=4.39.0 in /home/oem/anaconda3/lib/python3.11/site-packages (from langchain-huggingface) (4.46.3)\n",
      "Requirement already satisfied: filelock in /home/oem/anaconda3/lib/python3.11/site-packages (from huggingface-hub>=0.23.0->langchain-huggingface) (3.13.1)\n",
      "Requirement already satisfied: fsspec>=2023.5.0 in /home/oem/anaconda3/lib/python3.11/site-packages (from huggingface-hub>=0.23.0->langchain-huggingface) (2024.10.0)\n",
      "Requirement already satisfied: packaging>=20.9 in /home/oem/anaconda3/lib/python3.11/site-packages (from huggingface-hub>=0.23.0->langchain-huggingface) (23.2)\n",
      "Requirement already satisfied: pyyaml>=5.1 in /home/oem/anaconda3/lib/python3.11/site-packages (from huggingface-hub>=0.23.0->langchain-huggingface) (6.0.1)\n",
      "Requirement already satisfied: requests in /home/oem/anaconda3/lib/python3.11/site-packages (from huggingface-hub>=0.23.0->langchain-huggingface) (2.32.3)\n",
      "Requirement already satisfied: tqdm>=4.42.1 in /home/oem/anaconda3/lib/python3.11/site-packages (from huggingface-hub>=0.23.0->langchain-huggingface) (4.65.0)\n",
      "Requirement already satisfied: typing-extensions>=3.7.4.3 in /home/oem/anaconda3/lib/python3.11/site-packages (from huggingface-hub>=0.23.0->langchain-huggingface) (4.12.2)\n",
      "Requirement already satisfied: jsonpatch<2.0,>=1.33 in /home/oem/anaconda3/lib/python3.11/site-packages (from langchain-core<0.4.0,>=0.3.15->langchain-huggingface) (1.33)\n",
      "Requirement already satisfied: langsmith<0.2.0,>=0.1.125 in /home/oem/anaconda3/lib/python3.11/site-packages (from langchain-core<0.4.0,>=0.3.15->langchain-huggingface) (0.1.141)\n",
      "Requirement already satisfied: pydantic<3.0.0,>=2.5.2 in /home/oem/anaconda3/lib/python3.11/site-packages (from langchain-core<0.4.0,>=0.3.15->langchain-huggingface) (2.9.2)\n",
      "Requirement already satisfied: tenacity!=8.4.0,<10.0.0,>=8.1.0 in /home/oem/anaconda3/lib/python3.11/site-packages (from langchain-core<0.4.0,>=0.3.15->langchain-huggingface) (8.2.2)\n",
      "Requirement already satisfied: torch>=1.11.0 in /home/oem/anaconda3/lib/python3.11/site-packages (from sentence-transformers>=2.6.0->langchain-huggingface) (2.2.2)\n",
      "Requirement already satisfied: scikit-learn in /home/oem/anaconda3/lib/python3.11/site-packages (from sentence-transformers>=2.6.0->langchain-huggingface) (1.2.2)\n",
      "Requirement already satisfied: scipy in /home/oem/anaconda3/lib/python3.11/site-packages (from sentence-transformers>=2.6.0->langchain-huggingface) (1.12.0)\n",
      "Requirement already satisfied: Pillow in /home/oem/anaconda3/lib/python3.11/site-packages (from sentence-transformers>=2.6.0->langchain-huggingface) (10.2.0)\n",
      "Requirement already satisfied: numpy>=1.17 in /home/oem/anaconda3/lib/python3.11/site-packages (from transformers>=4.39.0->langchain-huggingface) (1.26.4)\n",
      "Requirement already satisfied: regex!=2019.12.17 in /home/oem/anaconda3/lib/python3.11/site-packages (from transformers>=4.39.0->langchain-huggingface) (2023.10.3)\n",
      "Requirement already satisfied: safetensors>=0.4.1 in /home/oem/anaconda3/lib/python3.11/site-packages (from transformers>=4.39.0->langchain-huggingface) (0.4.2)\n",
      "Requirement already satisfied: jsonpointer>=1.9 in /home/oem/anaconda3/lib/python3.11/site-packages (from jsonpatch<2.0,>=1.33->langchain-core<0.4.0,>=0.3.15->langchain-huggingface) (2.1)\n",
      "Requirement already satisfied: httpx<1,>=0.23.0 in /home/oem/anaconda3/lib/python3.11/site-packages (from langsmith<0.2.0,>=0.1.125->langchain-core<0.4.0,>=0.3.15->langchain-huggingface) (0.27.2)\n",
      "Requirement already satisfied: orjson<4.0.0,>=3.9.14 in /home/oem/anaconda3/lib/python3.11/site-packages (from langsmith<0.2.0,>=0.1.125->langchain-core<0.4.0,>=0.3.15->langchain-huggingface) (3.10.11)\n",
      "Requirement already satisfied: requests-toolbelt<2.0.0,>=1.0.0 in /home/oem/anaconda3/lib/python3.11/site-packages (from langsmith<0.2.0,>=0.1.125->langchain-core<0.4.0,>=0.3.15->langchain-huggingface) (1.0.0)\n",
      "Requirement already satisfied: annotated-types>=0.6.0 in /home/oem/anaconda3/lib/python3.11/site-packages (from pydantic<3.0.0,>=2.5.2->langchain-core<0.4.0,>=0.3.15->langchain-huggingface) (0.7.0)\n",
      "Requirement already satisfied: pydantic-core==2.23.4 in /home/oem/anaconda3/lib/python3.11/site-packages (from pydantic<3.0.0,>=2.5.2->langchain-core<0.4.0,>=0.3.15->langchain-huggingface) (2.23.4)\n",
      "Requirement already satisfied: charset-normalizer<4,>=2 in /home/oem/anaconda3/lib/python3.11/site-packages (from requests->huggingface-hub>=0.23.0->langchain-huggingface) (2.0.4)\n",
      "Requirement already satisfied: idna<4,>=2.5 in /home/oem/anaconda3/lib/python3.11/site-packages (from requests->huggingface-hub>=0.23.0->langchain-huggingface) (3.4)\n",
      "Requirement already satisfied: urllib3<3,>=1.21.1 in /home/oem/anaconda3/lib/python3.11/site-packages (from requests->huggingface-hub>=0.23.0->langchain-huggingface) (1.26.18)\n",
      "Requirement already satisfied: certifi>=2017.4.17 in /home/oem/anaconda3/lib/python3.11/site-packages (from requests->huggingface-hub>=0.23.0->langchain-huggingface) (2024.2.2)\n",
      "Requirement already satisfied: sympy in /home/oem/anaconda3/lib/python3.11/site-packages (from torch>=1.11.0->sentence-transformers>=2.6.0->langchain-huggingface) (1.12)\n",
      "Requirement already satisfied: networkx in /home/oem/anaconda3/lib/python3.11/site-packages (from torch>=1.11.0->sentence-transformers>=2.6.0->langchain-huggingface) (3.1)\n",
      "Requirement already satisfied: jinja2 in /home/oem/anaconda3/lib/python3.11/site-packages (from torch>=1.11.0->sentence-transformers>=2.6.0->langchain-huggingface) (3.1.3)\n",
      "Requirement already satisfied: nvidia-cuda-nvrtc-cu12==12.1.105 in /home/oem/anaconda3/lib/python3.11/site-packages (from torch>=1.11.0->sentence-transformers>=2.6.0->langchain-huggingface) (12.1.105)\n",
      "Requirement already satisfied: nvidia-cuda-runtime-cu12==12.1.105 in /home/oem/anaconda3/lib/python3.11/site-packages (from torch>=1.11.0->sentence-transformers>=2.6.0->langchain-huggingface) (12.1.105)\n",
      "Requirement already satisfied: nvidia-cuda-cupti-cu12==12.1.105 in /home/oem/anaconda3/lib/python3.11/site-packages (from torch>=1.11.0->sentence-transformers>=2.6.0->langchain-huggingface) (12.1.105)\n",
      "Requirement already satisfied: nvidia-cudnn-cu12==8.9.2.26 in /home/oem/anaconda3/lib/python3.11/site-packages (from torch>=1.11.0->sentence-transformers>=2.6.0->langchain-huggingface) (8.9.2.26)\n",
      "Requirement already satisfied: nvidia-cublas-cu12==12.1.3.1 in /home/oem/anaconda3/lib/python3.11/site-packages (from torch>=1.11.0->sentence-transformers>=2.6.0->langchain-huggingface) (12.1.3.1)\n",
      "Requirement already satisfied: nvidia-cufft-cu12==11.0.2.54 in /home/oem/anaconda3/lib/python3.11/site-packages (from torch>=1.11.0->sentence-transformers>=2.6.0->langchain-huggingface) (11.0.2.54)\n",
      "Requirement already satisfied: nvidia-curand-cu12==10.3.2.106 in /home/oem/anaconda3/lib/python3.11/site-packages (from torch>=1.11.0->sentence-transformers>=2.6.0->langchain-huggingface) (10.3.2.106)\n",
      "Requirement already satisfied: nvidia-cusolver-cu12==11.4.5.107 in /home/oem/anaconda3/lib/python3.11/site-packages (from torch>=1.11.0->sentence-transformers>=2.6.0->langchain-huggingface) (11.4.5.107)\n",
      "Requirement already satisfied: nvidia-cusparse-cu12==12.1.0.106 in /home/oem/anaconda3/lib/python3.11/site-packages (from torch>=1.11.0->sentence-transformers>=2.6.0->langchain-huggingface) (12.1.0.106)\n",
      "Requirement already satisfied: nvidia-nccl-cu12==2.19.3 in /home/oem/anaconda3/lib/python3.11/site-packages (from torch>=1.11.0->sentence-transformers>=2.6.0->langchain-huggingface) (2.19.3)\n",
      "Requirement already satisfied: nvidia-nvtx-cu12==12.1.105 in /home/oem/anaconda3/lib/python3.11/site-packages (from torch>=1.11.0->sentence-transformers>=2.6.0->langchain-huggingface) (12.1.105)\n",
      "Requirement already satisfied: triton==2.2.0 in /home/oem/anaconda3/lib/python3.11/site-packages (from torch>=1.11.0->sentence-transformers>=2.6.0->langchain-huggingface) (2.2.0)\n"
     ]
    },
    {
     "name": "stdout",
     "output_type": "stream",
     "text": [
      "Requirement already satisfied: nvidia-nvjitlink-cu12 in /home/oem/anaconda3/lib/python3.11/site-packages (from nvidia-cusolver-cu12==11.4.5.107->torch>=1.11.0->sentence-transformers>=2.6.0->langchain-huggingface) (12.4.99)\n",
      "Requirement already satisfied: joblib>=1.1.1 in /home/oem/anaconda3/lib/python3.11/site-packages (from scikit-learn->sentence-transformers>=2.6.0->langchain-huggingface) (1.2.0)\n",
      "Requirement already satisfied: threadpoolctl>=2.0.0 in /home/oem/anaconda3/lib/python3.11/site-packages (from scikit-learn->sentence-transformers>=2.6.0->langchain-huggingface) (2.2.0)\n",
      "Requirement already satisfied: anyio in /home/oem/anaconda3/lib/python3.11/site-packages (from httpx<1,>=0.23.0->langsmith<0.2.0,>=0.1.125->langchain-core<0.4.0,>=0.3.15->langchain-huggingface) (3.5.0)\n",
      "Requirement already satisfied: httpcore==1.* in /home/oem/anaconda3/lib/python3.11/site-packages (from httpx<1,>=0.23.0->langsmith<0.2.0,>=0.1.125->langchain-core<0.4.0,>=0.3.15->langchain-huggingface) (1.0.6)\n",
      "Requirement already satisfied: sniffio in /home/oem/anaconda3/lib/python3.11/site-packages (from httpx<1,>=0.23.0->langsmith<0.2.0,>=0.1.125->langchain-core<0.4.0,>=0.3.15->langchain-huggingface) (1.3.0)\n",
      "Requirement already satisfied: h11<0.15,>=0.13 in /home/oem/anaconda3/lib/python3.11/site-packages (from httpcore==1.*->httpx<1,>=0.23.0->langsmith<0.2.0,>=0.1.125->langchain-core<0.4.0,>=0.3.15->langchain-huggingface) (0.14.0)\n",
      "Requirement already satisfied: MarkupSafe>=2.0 in /home/oem/anaconda3/lib/python3.11/site-packages (from jinja2->torch>=1.11.0->sentence-transformers>=2.6.0->langchain-huggingface) (2.1.3)\n",
      "Requirement already satisfied: mpmath>=0.19 in /home/oem/anaconda3/lib/python3.11/site-packages (from sympy->torch>=1.11.0->sentence-transformers>=2.6.0->langchain-huggingface) (1.3.0)\n",
      "Using cached langchain_huggingface-0.1.2-py3-none-any.whl (21 kB)\n",
      "Using cached sentence_transformers-3.3.1-py3-none-any.whl (268 kB)\n",
      "Installing collected packages: sentence-transformers, langchain-huggingface\n",
      "Successfully installed langchain-huggingface-0.1.2 sentence-transformers-3.3.1\n"
     ]
    }
   ],
   "source": [
    "# !pip install langchain-huggingface\n"
   ]
  },
  {
   "cell_type": "code",
   "execution_count": 22,
   "id": "9fdd9e92",
   "metadata": {},
   "outputs": [
    {
     "name": "stderr",
     "output_type": "stream",
     "text": [
      "huggingface/tokenizers: The current process just got forked, after parallelism has already been used. Disabling parallelism to avoid deadlocks...\n",
      "To disable this warning, you can either:\n",
      "\t- Avoid using `tokenizers` before the fork if possible\n",
      "\t- Explicitly set the environment variable TOKENIZERS_PARALLELISM=(true | false)\n"
     ]
    },
    {
     "name": "stdout",
     "output_type": "stream",
     "text": [
      "Collecting faiss-cpu\n",
      "  Obtaining dependency information for faiss-cpu from https://files.pythonhosted.org/packages/e4/9c/aed8b7c6c490c777c404131b3f6a68e4924fbc149620dc6d6a3563435371/faiss_cpu-1.9.0.post1-cp311-cp311-manylinux_2_17_x86_64.manylinux2014_x86_64.whl.metadata\n",
      "  Downloading faiss_cpu-1.9.0.post1-cp311-cp311-manylinux_2_17_x86_64.manylinux2014_x86_64.whl.metadata (4.4 kB)\n",
      "Requirement already satisfied: numpy<3.0,>=1.25.0 in /home/oem/anaconda3/lib/python3.11/site-packages (from faiss-cpu) (1.26.4)\n",
      "Requirement already satisfied: packaging in /home/oem/anaconda3/lib/python3.11/site-packages (from faiss-cpu) (23.2)\n",
      "Downloading faiss_cpu-1.9.0.post1-cp311-cp311-manylinux_2_17_x86_64.manylinux2014_x86_64.whl (27.5 MB)\n",
      "\u001b[2K   \u001b[38;2;114;156;31m━━━━━━━━━━━━━━━━━━━━━━━━━━━━━━━━━━━━━━━━\u001b[0m \u001b[32m27.5/27.5 MB\u001b[0m \u001b[31m974.0 kB/s\u001b[0m eta \u001b[36m0:00:00\u001b[0mm eta \u001b[36m0:00:01\u001b[0m[36m0:00:01\u001b[0m\n",
      "\u001b[?25hInstalling collected packages: faiss-cpu\n",
      "Successfully installed faiss-cpu-1.9.0.post1\n"
     ]
    }
   ],
   "source": [
    "!pip install faiss-cpu"
   ]
  },
  {
   "cell_type": "code",
   "execution_count": null,
   "id": "4bccf585",
   "metadata": {},
   "outputs": [],
   "source": []
  },
  {
   "cell_type": "code",
   "execution_count": 23,
   "id": "a3039dfc",
   "metadata": {},
   "outputs": [],
   "source": [
    "\n",
    "class PDFChatbot:\n",
    "    def __init__(self, api_key):\n",
    "        \"\"\"\n",
    "        Initialize the chatbot with your OpenAI API key\n",
    "        \"\"\"\n",
    "        os.environ[\"GROQ_API_KEY\"] = api_key\n",
    "        self.chat_history = []\n",
    "        self.chain = None\n",
    "        \n",
    "    def load_pdf(self, pdf_path):\n",
    "        \"\"\"\n",
    "        Load and extract text from a PDF file\n",
    "        \"\"\"\n",
    "        text = \"\"\n",
    "        with open(pdf_path, 'rb') as file:\n",
    "            pdf_reader = PyPDF2.PdfReader(file)\n",
    "            for page in pdf_reader.pages:\n",
    "                text += page.extract_text()\n",
    "        return text\n",
    "    \n",
    "    def process_pdf(self, pdf_path):\n",
    "        \"\"\"\n",
    "        Process PDF content and create a conversational chain\n",
    "        \"\"\"\n",
    "        # Extract text from PDF\n",
    "        raw_text = self.load_pdf(pdf_path)\n",
    "#         # Replacing \\n and others\n",
    "#         raw_text.replace\n",
    "        # Split text into chunks\n",
    "        text_splitter = RecursiveCharacterTextSplitter(\n",
    "            chunk_size=1000,\n",
    "            chunk_overlap=200,\n",
    "            length_function=len\n",
    "        )\n",
    "        texts = text_splitter.split_text(raw_text)\n",
    "        \n",
    "        # Create embeddings and vector store\n",
    "        #embeddings = OpenAIEmbeddings()\n",
    "        \n",
    "        embeddings_model = HuggingFaceEmbeddings()\n",
    "        vectorstore = FAISS.from_texts(texts, embeddings_model)\n",
    "        \n",
    "        # Create the conversational chain\n",
    "        self.chain = ConversationalRetrievalChain.from_llm(\n",
    "            llm=ChatGroq(model=\"llama3-8b-8192\"),\n",
    "            retriever=vectorstore.as_retriever(search_kwargs={\"k\": 3}),\n",
    "        )\n",
    "        \n",
    "        return {\"raw_text\":raw_text,\"text_splitted\":texts}\n",
    "        \n",
    "    def ask_question(self, question):\n",
    "        \"\"\"\n",
    "        Ask a question about the PDF content\n",
    "        \"\"\"\n",
    "        if not self.chain:\n",
    "            return \"Please load a PDF first using process_pdf()\"\n",
    "        \n",
    "        response = self.chain({\"question\": question, \"chat_history\": self.chat_history})\n",
    "        self.chat_history.append((question, response['answer']))\n",
    "        \n",
    "        return response['answer']\n",
    "\n"
   ]
  },
  {
   "cell_type": "code",
   "execution_count": null,
   "id": "0de41d31",
   "metadata": {},
   "outputs": [],
   "source": []
  },
  {
   "cell_type": "code",
   "execution_count": null,
   "id": "ad7c5b5c",
   "metadata": {},
   "outputs": [],
   "source": []
  },
  {
   "cell_type": "markdown",
   "id": "f7a89dcc",
   "metadata": {},
   "source": [
    "\n",
    "    \n",
    "    # Ask questions\n",
    "    while True:\n",
    "        question = input(\"\\nAsk a question about the PDF (or 'quit' to exit): \")\n",
    "        if question.lower() == 'quit':\n",
    "            break\n",
    "        \n",
    "        answer = chatbot.ask_question(question)\n",
    "        print(\"\\nAnswer:\", answer)\n",
    "\n"
   ]
  },
  {
   "cell_type": "code",
   "execution_count": 21,
   "id": "68060a3e",
   "metadata": {
    "collapsed": true
   },
   "outputs": [
    {
     "data": {
      "application/vnd.jupyter.widget-view+json": {
       "model_id": "64d42030433e46e99d3b3de4fa3610ce",
       "version_major": 2,
       "version_minor": 0
      },
      "text/plain": [
       "modules.json:   0%|          | 0.00/349 [00:00<?, ?B/s]"
      ]
     },
     "metadata": {},
     "output_type": "display_data"
    },
    {
     "data": {
      "application/vnd.jupyter.widget-view+json": {
       "model_id": "2b843d0fd73a4000b27219d1128235b8",
       "version_major": 2,
       "version_minor": 0
      },
      "text/plain": [
       "config_sentence_transformers.json:   0%|          | 0.00/116 [00:00<?, ?B/s]"
      ]
     },
     "metadata": {},
     "output_type": "display_data"
    },
    {
     "data": {
      "application/vnd.jupyter.widget-view+json": {
       "model_id": "b059b535c78944f6ac512cc8b0cd1e78",
       "version_major": 2,
       "version_minor": 0
      },
      "text/plain": [
       "README.md:   0%|          | 0.00/10.6k [00:00<?, ?B/s]"
      ]
     },
     "metadata": {},
     "output_type": "display_data"
    },
    {
     "data": {
      "application/vnd.jupyter.widget-view+json": {
       "model_id": "4fdf941fe82745aab3143678bbe0a658",
       "version_major": 2,
       "version_minor": 0
      },
      "text/plain": [
       "sentence_bert_config.json:   0%|          | 0.00/53.0 [00:00<?, ?B/s]"
      ]
     },
     "metadata": {},
     "output_type": "display_data"
    },
    {
     "data": {
      "application/vnd.jupyter.widget-view+json": {
       "model_id": "4bf0228b8718410a80a95c37a3d3c808",
       "version_major": 2,
       "version_minor": 0
      },
      "text/plain": [
       "config.json:   0%|          | 0.00/571 [00:00<?, ?B/s]"
      ]
     },
     "metadata": {},
     "output_type": "display_data"
    },
    {
     "data": {
      "application/vnd.jupyter.widget-view+json": {
       "model_id": "bd20dbbcbdcb471f9b810c10991e3db4",
       "version_major": 2,
       "version_minor": 0
      },
      "text/plain": [
       "model.safetensors:   0%|          | 0.00/438M [00:00<?, ?B/s]"
      ]
     },
     "metadata": {},
     "output_type": "display_data"
    },
    {
     "data": {
      "application/vnd.jupyter.widget-view+json": {
       "model_id": "87692e0df842486bad59073f5356f46e",
       "version_major": 2,
       "version_minor": 0
      },
      "text/plain": [
       "tokenizer_config.json:   0%|          | 0.00/363 [00:00<?, ?B/s]"
      ]
     },
     "metadata": {},
     "output_type": "display_data"
    },
    {
     "data": {
      "application/vnd.jupyter.widget-view+json": {
       "model_id": "dbf04660c2e54eb9a07d2c62bb7e6852",
       "version_major": 2,
       "version_minor": 0
      },
      "text/plain": [
       "vocab.txt:   0%|          | 0.00/232k [00:00<?, ?B/s]"
      ]
     },
     "metadata": {},
     "output_type": "display_data"
    },
    {
     "data": {
      "application/vnd.jupyter.widget-view+json": {
       "model_id": "f41fad86083c4ef594bace7d43326064",
       "version_major": 2,
       "version_minor": 0
      },
      "text/plain": [
       "tokenizer.json:   0%|          | 0.00/466k [00:00<?, ?B/s]"
      ]
     },
     "metadata": {},
     "output_type": "display_data"
    },
    {
     "data": {
      "application/vnd.jupyter.widget-view+json": {
       "model_id": "123928f93c7044e8ab671de08b10b751",
       "version_major": 2,
       "version_minor": 0
      },
      "text/plain": [
       "special_tokens_map.json:   0%|          | 0.00/239 [00:00<?, ?B/s]"
      ]
     },
     "metadata": {},
     "output_type": "display_data"
    },
    {
     "data": {
      "application/vnd.jupyter.widget-view+json": {
       "model_id": "978cc61416cd4376bfd0e01bf07a4100",
       "version_major": 2,
       "version_minor": 0
      },
      "text/plain": [
       "1_Pooling/config.json:   0%|          | 0.00/190 [00:00<?, ?B/s]"
      ]
     },
     "metadata": {},
     "output_type": "display_data"
    },
    {
     "ename": "ImportError",
     "evalue": "Could not import faiss python package. Please install it with `pip install faiss-gpu` (for CUDA supported GPU) or `pip install faiss-cpu` (depending on Python version).",
     "output_type": "error",
     "traceback": [
      "\u001b[0;31m---------------------------------------------------------------------------\u001b[0m",
      "\u001b[0;31mModuleNotFoundError\u001b[0m                       Traceback (most recent call last)",
      "File \u001b[0;32m~/anaconda3/lib/python3.11/site-packages/langchain_community/vectorstores/faiss.py:55\u001b[0m, in \u001b[0;36mdependable_faiss_import\u001b[0;34m(no_avx2)\u001b[0m\n\u001b[1;32m     54\u001b[0m     \u001b[38;5;28;01melse\u001b[39;00m:\n\u001b[0;32m---> 55\u001b[0m         \u001b[38;5;28;01mimport\u001b[39;00m \u001b[38;5;21;01mfaiss\u001b[39;00m\n\u001b[1;32m     56\u001b[0m \u001b[38;5;28;01mexcept\u001b[39;00m \u001b[38;5;167;01mImportError\u001b[39;00m:\n",
      "\u001b[0;31mModuleNotFoundError\u001b[0m: No module named 'faiss'",
      "\nDuring handling of the above exception, another exception occurred:\n",
      "\u001b[0;31mImportError\u001b[0m                               Traceback (most recent call last)",
      "Cell \u001b[0;32mIn[21], line 4\u001b[0m\n\u001b[1;32m      1\u001b[0m chatbot \u001b[38;5;241m=\u001b[39m PDFChatbot(GROQ_API_KEY)\n\u001b[1;32m      3\u001b[0m \u001b[38;5;66;03m# Process a PDF file\u001b[39;00m\n\u001b[0;32m----> 4\u001b[0m chatbot\u001b[38;5;241m.\u001b[39mprocess_pdf(\u001b[38;5;124m\"\u001b[39m\u001b[38;5;124m./sample_test.pdf\u001b[39m\u001b[38;5;124m\"\u001b[39m)\n",
      "Cell \u001b[0;32mIn[20], line 40\u001b[0m, in \u001b[0;36mPDFChatbot.process_pdf\u001b[0;34m(self, pdf_path)\u001b[0m\n\u001b[1;32m     36\u001b[0m \u001b[38;5;66;03m# Create embeddings and vector store\u001b[39;00m\n\u001b[1;32m     37\u001b[0m \u001b[38;5;66;03m#embeddings = OpenAIEmbeddings()\u001b[39;00m\n\u001b[1;32m     39\u001b[0m embeddings_model \u001b[38;5;241m=\u001b[39m HuggingFaceEmbeddings()\n\u001b[0;32m---> 40\u001b[0m vectorstore \u001b[38;5;241m=\u001b[39m FAISS\u001b[38;5;241m.\u001b[39mfrom_texts(texts, embeddings_model)\n\u001b[1;32m     42\u001b[0m \u001b[38;5;66;03m# Create the conversational chain\u001b[39;00m\n\u001b[1;32m     43\u001b[0m \u001b[38;5;28mself\u001b[39m\u001b[38;5;241m.\u001b[39mchain \u001b[38;5;241m=\u001b[39m ConversationalRetrievalChain\u001b[38;5;241m.\u001b[39mfrom_llm(\n\u001b[1;32m     44\u001b[0m     llm\u001b[38;5;241m=\u001b[39mChatGroq(model\u001b[38;5;241m=\u001b[39m\u001b[38;5;124m\"\u001b[39m\u001b[38;5;124mllama3-8b-8192\u001b[39m\u001b[38;5;124m\"\u001b[39m),\n\u001b[1;32m     45\u001b[0m     retriever\u001b[38;5;241m=\u001b[39mvectorstore\u001b[38;5;241m.\u001b[39mas_retriever(search_kwargs\u001b[38;5;241m=\u001b[39m{\u001b[38;5;124m\"\u001b[39m\u001b[38;5;124mk\u001b[39m\u001b[38;5;124m\"\u001b[39m: \u001b[38;5;241m3\u001b[39m}),\n\u001b[1;32m     46\u001b[0m )\n",
      "File \u001b[0;32m~/anaconda3/lib/python3.11/site-packages/langchain_community/vectorstores/faiss.py:1042\u001b[0m, in \u001b[0;36mFAISS.from_texts\u001b[0;34m(cls, texts, embedding, metadatas, ids, **kwargs)\u001b[0m\n\u001b[1;32m   1023\u001b[0m \u001b[38;5;250m\u001b[39m\u001b[38;5;124;03m\"\"\"Construct FAISS wrapper from raw documents.\u001b[39;00m\n\u001b[1;32m   1024\u001b[0m \n\u001b[1;32m   1025\u001b[0m \u001b[38;5;124;03mThis is a user friendly interface that:\u001b[39;00m\n\u001b[0;32m   (...)\u001b[0m\n\u001b[1;32m   1039\u001b[0m \u001b[38;5;124;03m        faiss = FAISS.from_texts(texts, embeddings)\u001b[39;00m\n\u001b[1;32m   1040\u001b[0m \u001b[38;5;124;03m\"\"\"\u001b[39;00m\n\u001b[1;32m   1041\u001b[0m embeddings \u001b[38;5;241m=\u001b[39m embedding\u001b[38;5;241m.\u001b[39membed_documents(texts)\n\u001b[0;32m-> 1042\u001b[0m \u001b[38;5;28;01mreturn\u001b[39;00m \u001b[38;5;28mcls\u001b[39m\u001b[38;5;241m.\u001b[39m__from(\n\u001b[1;32m   1043\u001b[0m     texts,\n\u001b[1;32m   1044\u001b[0m     embeddings,\n\u001b[1;32m   1045\u001b[0m     embedding,\n\u001b[1;32m   1046\u001b[0m     metadatas\u001b[38;5;241m=\u001b[39mmetadatas,\n\u001b[1;32m   1047\u001b[0m     ids\u001b[38;5;241m=\u001b[39mids,\n\u001b[1;32m   1048\u001b[0m     \u001b[38;5;241m*\u001b[39m\u001b[38;5;241m*\u001b[39mkwargs,\n\u001b[1;32m   1049\u001b[0m )\n",
      "File \u001b[0;32m~/anaconda3/lib/python3.11/site-packages/langchain_community/vectorstores/faiss.py:994\u001b[0m, in \u001b[0;36mFAISS.__from\u001b[0;34m(cls, texts, embeddings, embedding, metadatas, ids, normalize_L2, distance_strategy, **kwargs)\u001b[0m\n\u001b[1;32m    982\u001b[0m \u001b[38;5;129m@classmethod\u001b[39m\n\u001b[1;32m    983\u001b[0m \u001b[38;5;28;01mdef\u001b[39;00m \u001b[38;5;21m__from\u001b[39m(\n\u001b[1;32m    984\u001b[0m     \u001b[38;5;28mcls\u001b[39m,\n\u001b[0;32m   (...)\u001b[0m\n\u001b[1;32m    992\u001b[0m     \u001b[38;5;241m*\u001b[39m\u001b[38;5;241m*\u001b[39mkwargs: Any,\n\u001b[1;32m    993\u001b[0m ) \u001b[38;5;241m-\u001b[39m\u001b[38;5;241m>\u001b[39m FAISS:\n\u001b[0;32m--> 994\u001b[0m     faiss \u001b[38;5;241m=\u001b[39m dependable_faiss_import()\n\u001b[1;32m    995\u001b[0m     \u001b[38;5;28;01mif\u001b[39;00m distance_strategy \u001b[38;5;241m==\u001b[39m DistanceStrategy\u001b[38;5;241m.\u001b[39mMAX_INNER_PRODUCT:\n\u001b[1;32m    996\u001b[0m         index \u001b[38;5;241m=\u001b[39m faiss\u001b[38;5;241m.\u001b[39mIndexFlatIP(\u001b[38;5;28mlen\u001b[39m(embeddings[\u001b[38;5;241m0\u001b[39m]))\n",
      "File \u001b[0;32m~/anaconda3/lib/python3.11/site-packages/langchain_community/vectorstores/faiss.py:57\u001b[0m, in \u001b[0;36mdependable_faiss_import\u001b[0;34m(no_avx2)\u001b[0m\n\u001b[1;32m     55\u001b[0m         \u001b[38;5;28;01mimport\u001b[39;00m \u001b[38;5;21;01mfaiss\u001b[39;00m\n\u001b[1;32m     56\u001b[0m \u001b[38;5;28;01mexcept\u001b[39;00m \u001b[38;5;167;01mImportError\u001b[39;00m:\n\u001b[0;32m---> 57\u001b[0m     \u001b[38;5;28;01mraise\u001b[39;00m \u001b[38;5;167;01mImportError\u001b[39;00m(\n\u001b[1;32m     58\u001b[0m         \u001b[38;5;124m\"\u001b[39m\u001b[38;5;124mCould not import faiss python package. \u001b[39m\u001b[38;5;124m\"\u001b[39m\n\u001b[1;32m     59\u001b[0m         \u001b[38;5;124m\"\u001b[39m\u001b[38;5;124mPlease install it with `pip install faiss-gpu` (for CUDA supported GPU) \u001b[39m\u001b[38;5;124m\"\u001b[39m\n\u001b[1;32m     60\u001b[0m         \u001b[38;5;124m\"\u001b[39m\u001b[38;5;124mor `pip install faiss-cpu` (depending on Python version).\u001b[39m\u001b[38;5;124m\"\u001b[39m\n\u001b[1;32m     61\u001b[0m     )\n\u001b[1;32m     62\u001b[0m \u001b[38;5;28;01mreturn\u001b[39;00m faiss\n",
      "\u001b[0;31mImportError\u001b[0m: Could not import faiss python package. Please install it with `pip install faiss-gpu` (for CUDA supported GPU) or `pip install faiss-cpu` (depending on Python version)."
     ]
    }
   ],
   "source": [
    "chatbot = PDFChatbot(GROQ_API_KEY)\n",
    "    \n",
    "# Process a PDF file\n",
    "chatbot.process_pdf(\"./sample_test.pdf\")"
   ]
  },
  {
   "cell_type": "code",
   "execution_count": 24,
   "id": "b87c2ff7",
   "metadata": {
    "collapsed": true
   },
   "outputs": [
    {
     "data": {
      "text/plain": [
       "{'raw_text': ' \\nDepartment of English  \\nMidterm  Examination Schedule  (Summer -2024)  \\n \\n \\nBA (Honors) 1st Semester  \\nDate  Day Course Code  Course Title  Time  \\n29.09.2024  Sunday  ENG 1101  Listening and Speaking  \\n03:00pm -04:00p m 01.10.2024  Tuesday  ENG 1102  Reading  \\n03.10.2024  Thursday  ENG 1103  Writing  \\n06.10.2024  Sunday  ENG 1104  Introduction to Poe try \\n08.10.2024  Tuesday  ENG 1105  Introduction to Fiction  \\n \\nBA (Honors) 2nd Semester  \\nDate  Day Course Code  Course Title  Time  \\n29.09.2024  Sunday  ENG 1201  Introduction to Drama  \\n10:00am -11:00am  01.10.2024  Tuesday  ENG 1202  Introduction to Non Fiction  \\n03.10. 2024  Thursday  ENG 1203  History of England  \\n06.10.2024  Sunday  ENG 1204  Academic Writing  \\n07.10.2024  Monday  BAN 1001  History of the Emergence of Bangladesh  12:00pm -01:00pm  \\n08.10.2024  Tuesday  CSE 1003  Computer Fundamentals  10:00am -11:00am  \\n \\nBA (Honors) 3rd Semester  \\nDate  Day Course Code  Course Title  Time  \\n29.09.2024  Sunday  ENG 2101  Classics in Translation I  \\n10:00am -11:00am  01.10.2024  Tuesday  ENG 2102  Classics in Translation II  \\n03.10.2024  Thursday  ENG 2103  Romantic Poetry  \\n06.10.2024  Sunday  ENG 2104  Weste rn Philosophy  \\n07.10.2024  Monday  ENG 2105  Professional Communication  12:00pm -01:00pm  \\n08.10.2024  Tuesday  ENG 2106  Bengali Literature  10:00am -11:00am  \\n \\nBA (Honors) 4th Semester  \\nDate  Day Course Code  Course Title  Time  \\n30.09.2024  Monday  ENG 2201  16th and 17t h Century Drama  \\n10:00am -11:00am  02.10.2024  Wednesday  ENG 2202  16th and 17th Century Poetry  \\n05.10.2024  Saturday  ENG 2203  Introduction to Language Studies  \\n06.10.2024  Sunday  ENG 2204  Literary Criticism I  12:00pm -01:00pm  \\n07.10.2024  Monday  ENG 2205  Intro ductory Literary Theories  10:00am -11:00am  09.10.2024  Wednesday  ENG 2206  Translation Studies  \\n \\nBA (Honors) 5th Semester  \\nDate  Day Course Code  Course Title  Time  \\n30.09.2024  Monday  ENGL 301  16th and 17th Century Drama  03:00pm -04:30pm  02.10.2024  Wednesday  ENGL 302  16th and 17th Century Poetry  \\n03.10.2024  Thursday  ENGL 303  18th Century Literature  12:00pm -01:30pm  \\n05.10.2024  Saturday  ENGL 304  19th Century Literature: Poetry  \\n03:00pm -04:30pm  07.10.2024  Monday  ENGL 305  19th Century Literature: Novel  \\n09.10.2024  Wednesday  ELT 301  Introduction to Language Studies  \\n \\nBA (Honors) 6th Semester  \\nDate  Day Course Code  Course Title  Time  \\n30.09.2024  Monday  ENGL 303  18th Century Literature  \\n03:00pm -04:30pm  02.10.2024  Wednesday  ENGL 304  19th Century Literature: Poetry  \\n05.1 0.2024  Saturday  ENGL 305  19th Century Literature: Novel  \\n07.10.2024  Monday  ELT 301  Introduction to Language Studies  \\n09.10.2024  Wednesday  ELT 302  Introduction to English Language Teaching  \\n \\n \\n\\uf0ab\\uf0ab\\uf0ab N.B. No change of any kind is possible. \\uf0ab\\uf0ab\\uf0ab \\nDepartment of English  \\nMidterm  Examination Schedule  (Summer -2024)  \\n \\n \\nBA (Honors) 7th Semester  \\nDate  Day Course Code  Course Title  Time  \\n30.09.2024  Monday  ENGL 307  20th Century Literature: Poetry  \\n10:00am -11:30am  02.10.2024  Wednesday  ELT 301  Introduction to Language Studies  \\n05.10.2024  Saturday  ELT 302  Introduction to English Language Tea ching  \\n07.10.2024  Monday  ENGL 308  Advanced Reading and Writing  \\n09.10.2024  Wednesday  ENGL 309  American Literature: Poetry  \\n \\nBA (Honors) 8th Semester  \\nDate  Day Course Code  Course Title  Time  \\n30.09.2024  Monday  ELT 401  English for the Media  \\n10:00am -11:30am  02.10.2024  Wednesday  ENGL 401  Literary Criticism I  \\n05.10.2024  Saturday  ENGL 402  Translation Studies  \\n06.10.2024  Sunday  ENGL 309  American Literature: Poetry  12:00pm -01:30pm  \\n07.10.2024  Monday  ENGL 403  Cultural Studies: An Introduction  10:00am -11:30am  09.10.2024  Wednesday  ENGL 404  Literary Criticism II  \\n \\nBA (Honors) 9th Semester  \\nDate  Day Course Code  Course Title  Time  \\n30.09.2024  Monday  ELT 401  English for the Media  \\n10:00am -11:30am  02.10.2024  Wednesday  ENGL 401  Literary Criticism I  \\n05.10.2024  Saturday  ENGL 402  Translation Studies  \\n07.10.2024  Monday  ENGL 403  Cultural Studies: An Introduction  \\n09.10.2024  Wednesday  ENGL 404  Literary Criticism II  \\nBA (Honors) 10th Semester  \\nDate  Day Course Code  Course Title  Time  \\n30.09.2024  Monday  ENGL 405  Shakespeare  03:00pm -04:30pm  02.10.2024  Wednesday  ENGL 406  American Literature: Novel  \\n03.10.2024  Thursday  ENGL 407  17th Century Literature  12:00pm -01:30pm  \\n05.10.2024  Saturday  ENGL 408  20th Century British Drama  \\n03:00pm -04:30pm  07.10.2024  Monday  ENGL 409  New Literatu res in English  \\n09.10.2024  Wednesday  ENGL 411  South Asian Writing in English  \\n09.10.2024  Wednesday  ENG 41 0 Thesis  \\n \\n \\n \\nMasters 1st Semester  \\nDate  Day Course Code  Course Title  Time  \\n29.09.2024  Sunday  ENG 5101  Shakespeare  \\n03:00pm -04:00pm  01.10.2024  Tuesday  ENG 5102  World Classics in Translation  \\n03.10.2024  Thursday  ENG 5103  20th Century American Literature  \\n05.10.2024  Satu rday  ENG 5104  20th Century English Literature  12:00pm -01:00pm  \\n06.10.2024  Sunday  ENG 5105  Post Communicative Developments in ELT  03:00p m-04:00pm  08.10.2024  Tuesday  ENG 5106  Practice in Evaluation and Design of Language Syllabus, Materials and Tests  \\n \\nMasters 2nd Semester  \\nDate  Day Course Code  Course Title  Time  \\n29.09.2024  Sunday  ENG 5201  Postcolonial Literature  \\n03:00pm -04:00pm  01.10.202 4 Tuesday  ENG 5202  Literary Theory  \\n03.10.2024  Thursday  ENG 5203  Cultural Studies  \\n05.10.2024  Saturday  ENG 5204  New Discourses in Literary Studies  12:00pm -01:00pm  \\n08.10.2024  Tuesday  ENG 5205  Teaching Practicum  03:00pm -04:00pm  \\n \\n\\uf0ab\\uf0ab\\uf0ab N.B. No change of any  kind is possible. \\uf0ab\\uf0ab\\uf0ab ',\n",
       " 'text_splitted': ['Department of English  \\nMidterm  Examination Schedule  (Summer -2024)  \\n \\n \\nBA (Honors) 1st Semester  \\nDate  Day Course Code  Course Title  Time  \\n29.09.2024  Sunday  ENG 1101  Listening and Speaking  \\n03:00pm -04:00p m 01.10.2024  Tuesday  ENG 1102  Reading  \\n03.10.2024  Thursday  ENG 1103  Writing  \\n06.10.2024  Sunday  ENG 1104  Introduction to Poe try \\n08.10.2024  Tuesday  ENG 1105  Introduction to Fiction  \\n \\nBA (Honors) 2nd Semester  \\nDate  Day Course Code  Course Title  Time  \\n29.09.2024  Sunday  ENG 1201  Introduction to Drama  \\n10:00am -11:00am  01.10.2024  Tuesday  ENG 1202  Introduction to Non Fiction  \\n03.10. 2024  Thursday  ENG 1203  History of England  \\n06.10.2024  Sunday  ENG 1204  Academic Writing  \\n07.10.2024  Monday  BAN 1001  History of the Emergence of Bangladesh  12:00pm -01:00pm  \\n08.10.2024  Tuesday  CSE 1003  Computer Fundamentals  10:00am -11:00am  \\n \\nBA (Honors) 3rd Semester  \\nDate  Day Course Code  Course Title  Time',\n",
       "  '08.10.2024  Tuesday  CSE 1003  Computer Fundamentals  10:00am -11:00am  \\n \\nBA (Honors) 3rd Semester  \\nDate  Day Course Code  Course Title  Time  \\n29.09.2024  Sunday  ENG 2101  Classics in Translation I  \\n10:00am -11:00am  01.10.2024  Tuesday  ENG 2102  Classics in Translation II  \\n03.10.2024  Thursday  ENG 2103  Romantic Poetry  \\n06.10.2024  Sunday  ENG 2104  Weste rn Philosophy  \\n07.10.2024  Monday  ENG 2105  Professional Communication  12:00pm -01:00pm  \\n08.10.2024  Tuesday  ENG 2106  Bengali Literature  10:00am -11:00am  \\n \\nBA (Honors) 4th Semester  \\nDate  Day Course Code  Course Title  Time  \\n30.09.2024  Monday  ENG 2201  16th and 17t h Century Drama  \\n10:00am -11:00am  02.10.2024  Wednesday  ENG 2202  16th and 17th Century Poetry  \\n05.10.2024  Saturday  ENG 2203  Introduction to Language Studies  \\n06.10.2024  Sunday  ENG 2204  Literary Criticism I  12:00pm -01:00pm',\n",
       "  '05.10.2024  Saturday  ENG 2203  Introduction to Language Studies  \\n06.10.2024  Sunday  ENG 2204  Literary Criticism I  12:00pm -01:00pm  \\n07.10.2024  Monday  ENG 2205  Intro ductory Literary Theories  10:00am -11:00am  09.10.2024  Wednesday  ENG 2206  Translation Studies  \\n \\nBA (Honors) 5th Semester  \\nDate  Day Course Code  Course Title  Time  \\n30.09.2024  Monday  ENGL 301  16th and 17th Century Drama  03:00pm -04:30pm  02.10.2024  Wednesday  ENGL 302  16th and 17th Century Poetry  \\n03.10.2024  Thursday  ENGL 303  18th Century Literature  12:00pm -01:30pm  \\n05.10.2024  Saturday  ENGL 304  19th Century Literature: Poetry  \\n03:00pm -04:30pm  07.10.2024  Monday  ENGL 305  19th Century Literature: Novel  \\n09.10.2024  Wednesday  ELT 301  Introduction to Language Studies  \\n \\nBA (Honors) 6th Semester  \\nDate  Day Course Code  Course Title  Time  \\n30.09.2024  Monday  ENGL 303  18th Century Literature  \\n03:00pm -04:30pm  02.10.2024  Wednesday  ENGL 304  19th Century Literature: Poetry',\n",
       "  'Date  Day Course Code  Course Title  Time  \\n30.09.2024  Monday  ENGL 303  18th Century Literature  \\n03:00pm -04:30pm  02.10.2024  Wednesday  ENGL 304  19th Century Literature: Poetry  \\n05.1 0.2024  Saturday  ENGL 305  19th Century Literature: Novel  \\n07.10.2024  Monday  ELT 301  Introduction to Language Studies  \\n09.10.2024  Wednesday  ELT 302  Introduction to English Language Teaching  \\n \\n \\n\\uf0ab\\uf0ab\\uf0ab N.B. No change of any kind is possible. \\uf0ab\\uf0ab\\uf0ab \\nDepartment of English  \\nMidterm  Examination Schedule  (Summer -2024)  \\n \\n \\nBA (Honors) 7th Semester  \\nDate  Day Course Code  Course Title  Time  \\n30.09.2024  Monday  ENGL 307  20th Century Literature: Poetry  \\n10:00am -11:30am  02.10.2024  Wednesday  ELT 301  Introduction to Language Studies  \\n05.10.2024  Saturday  ELT 302  Introduction to English Language Tea ching  \\n07.10.2024  Monday  ENGL 308  Advanced Reading and Writing  \\n09.10.2024  Wednesday  ENGL 309  American Literature: Poetry  \\n \\nBA (Honors) 8th Semester',\n",
       "  '07.10.2024  Monday  ENGL 308  Advanced Reading and Writing  \\n09.10.2024  Wednesday  ENGL 309  American Literature: Poetry  \\n \\nBA (Honors) 8th Semester  \\nDate  Day Course Code  Course Title  Time  \\n30.09.2024  Monday  ELT 401  English for the Media  \\n10:00am -11:30am  02.10.2024  Wednesday  ENGL 401  Literary Criticism I  \\n05.10.2024  Saturday  ENGL 402  Translation Studies  \\n06.10.2024  Sunday  ENGL 309  American Literature: Poetry  12:00pm -01:30pm  \\n07.10.2024  Monday  ENGL 403  Cultural Studies: An Introduction  10:00am -11:30am  09.10.2024  Wednesday  ENGL 404  Literary Criticism II  \\n \\nBA (Honors) 9th Semester  \\nDate  Day Course Code  Course Title  Time  \\n30.09.2024  Monday  ELT 401  English for the Media  \\n10:00am -11:30am  02.10.2024  Wednesday  ENGL 401  Literary Criticism I  \\n05.10.2024  Saturday  ENGL 402  Translation Studies  \\n07.10.2024  Monday  ENGL 403  Cultural Studies: An Introduction  \\n09.10.2024  Wednesday  ENGL 404  Literary Criticism II',\n",
       "  '05.10.2024  Saturday  ENGL 402  Translation Studies  \\n07.10.2024  Monday  ENGL 403  Cultural Studies: An Introduction  \\n09.10.2024  Wednesday  ENGL 404  Literary Criticism II  \\nBA (Honors) 10th Semester  \\nDate  Day Course Code  Course Title  Time  \\n30.09.2024  Monday  ENGL 405  Shakespeare  03:00pm -04:30pm  02.10.2024  Wednesday  ENGL 406  American Literature: Novel  \\n03.10.2024  Thursday  ENGL 407  17th Century Literature  12:00pm -01:30pm  \\n05.10.2024  Saturday  ENGL 408  20th Century British Drama  \\n03:00pm -04:30pm  07.10.2024  Monday  ENGL 409  New Literatu res in English  \\n09.10.2024  Wednesday  ENGL 411  South Asian Writing in English  \\n09.10.2024  Wednesday  ENG 41 0 Thesis  \\n \\n \\n \\nMasters 1st Semester  \\nDate  Day Course Code  Course Title  Time  \\n29.09.2024  Sunday  ENG 5101  Shakespeare  \\n03:00pm -04:00pm  01.10.2024  Tuesday  ENG 5102  World Classics in Translation  \\n03.10.2024  Thursday  ENG 5103  20th Century American Literature',\n",
       "  '29.09.2024  Sunday  ENG 5101  Shakespeare  \\n03:00pm -04:00pm  01.10.2024  Tuesday  ENG 5102  World Classics in Translation  \\n03.10.2024  Thursday  ENG 5103  20th Century American Literature  \\n05.10.2024  Satu rday  ENG 5104  20th Century English Literature  12:00pm -01:00pm  \\n06.10.2024  Sunday  ENG 5105  Post Communicative Developments in ELT  03:00p m-04:00pm  08.10.2024  Tuesday  ENG 5106  Practice in Evaluation and Design of Language Syllabus, Materials and Tests  \\n \\nMasters 2nd Semester  \\nDate  Day Course Code  Course Title  Time  \\n29.09.2024  Sunday  ENG 5201  Postcolonial Literature  \\n03:00pm -04:00pm  01.10.202 4 Tuesday  ENG 5202  Literary Theory  \\n03.10.2024  Thursday  ENG 5203  Cultural Studies  \\n05.10.2024  Saturday  ENG 5204  New Discourses in Literary Studies  12:00pm -01:00pm  \\n08.10.2024  Tuesday  ENG 5205  Teaching Practicum  03:00pm -04:00pm  \\n \\n\\uf0ab\\uf0ab\\uf0ab N.B. No change of any  kind is possible. \\uf0ab\\uf0ab\\uf0ab']}"
      ]
     },
     "execution_count": 24,
     "metadata": {},
     "output_type": "execute_result"
    }
   ],
   "source": [
    "chatbot = PDFChatbot(GROQ_API_KEY)\n",
    "    \n",
    "# Process a PDF file\n",
    "value=chatbot.process_pdf(\"./sample_test.pdf\")\n",
    "\n",
    "value"
   ]
  },
  {
   "cell_type": "code",
   "execution_count": 26,
   "id": "ecb41665",
   "metadata": {},
   "outputs": [
    {
     "name": "stdout",
     "output_type": "stream",
     "text": [
      "['Department of English  \\nMidterm  Examination Schedule  (Summer -2024)  \\n \\n \\nBA (Honors) 1st Semester  \\nDate  Day Course Code  Course Title  Time  \\n29.09.2024  Sunday  ENG 1101  Listening and Speaking  \\n03:00pm -04:00p m 01.10.2024  Tuesday  ENG 1102  Reading  \\n03.10.2024  Thursday  ENG 1103  Writing  \\n06.10.2024  Sunday  ENG 1104  Introduction to Poe try \\n08.10.2024  Tuesday  ENG 1105  Introduction to Fiction  \\n \\nBA (Honors) 2nd Semester  \\nDate  Day Course Code  Course Title  Time  \\n29.09.2024  Sunday  ENG 1201  Introduction to Drama  \\n10:00am -11:00am  01.10.2024  Tuesday  ENG 1202  Introduction to Non Fiction  \\n03.10. 2024  Thursday  ENG 1203  History of England  \\n06.10.2024  Sunday  ENG 1204  Academic Writing  \\n07.10.2024  Monday  BAN 1001  History of the Emergence of Bangladesh  12:00pm -01:00pm  \\n08.10.2024  Tuesday  CSE 1003  Computer Fundamentals  10:00am -11:00am  \\n \\nBA (Honors) 3rd Semester  \\nDate  Day Course Code  Course Title  Time', '08.10.2024  Tuesday  CSE 1003  Computer Fundamentals  10:00am -11:00am  \\n \\nBA (Honors) 3rd Semester  \\nDate  Day Course Code  Course Title  Time  \\n29.09.2024  Sunday  ENG 2101  Classics in Translation I  \\n10:00am -11:00am  01.10.2024  Tuesday  ENG 2102  Classics in Translation II  \\n03.10.2024  Thursday  ENG 2103  Romantic Poetry  \\n06.10.2024  Sunday  ENG 2104  Weste rn Philosophy  \\n07.10.2024  Monday  ENG 2105  Professional Communication  12:00pm -01:00pm  \\n08.10.2024  Tuesday  ENG 2106  Bengali Literature  10:00am -11:00am  \\n \\nBA (Honors) 4th Semester  \\nDate  Day Course Code  Course Title  Time  \\n30.09.2024  Monday  ENG 2201  16th and 17t h Century Drama  \\n10:00am -11:00am  02.10.2024  Wednesday  ENG 2202  16th and 17th Century Poetry  \\n05.10.2024  Saturday  ENG 2203  Introduction to Language Studies  \\n06.10.2024  Sunday  ENG 2204  Literary Criticism I  12:00pm -01:00pm', '05.10.2024  Saturday  ENG 2203  Introduction to Language Studies  \\n06.10.2024  Sunday  ENG 2204  Literary Criticism I  12:00pm -01:00pm  \\n07.10.2024  Monday  ENG 2205  Intro ductory Literary Theories  10:00am -11:00am  09.10.2024  Wednesday  ENG 2206  Translation Studies  \\n \\nBA (Honors) 5th Semester  \\nDate  Day Course Code  Course Title  Time  \\n30.09.2024  Monday  ENGL 301  16th and 17th Century Drama  03:00pm -04:30pm  02.10.2024  Wednesday  ENGL 302  16th and 17th Century Poetry  \\n03.10.2024  Thursday  ENGL 303  18th Century Literature  12:00pm -01:30pm  \\n05.10.2024  Saturday  ENGL 304  19th Century Literature: Poetry  \\n03:00pm -04:30pm  07.10.2024  Monday  ENGL 305  19th Century Literature: Novel  \\n09.10.2024  Wednesday  ELT 301  Introduction to Language Studies  \\n \\nBA (Honors) 6th Semester  \\nDate  Day Course Code  Course Title  Time  \\n30.09.2024  Monday  ENGL 303  18th Century Literature  \\n03:00pm -04:30pm  02.10.2024  Wednesday  ENGL 304  19th Century Literature: Poetry', 'Date  Day Course Code  Course Title  Time  \\n30.09.2024  Monday  ENGL 303  18th Century Literature  \\n03:00pm -04:30pm  02.10.2024  Wednesday  ENGL 304  19th Century Literature: Poetry  \\n05.1 0.2024  Saturday  ENGL 305  19th Century Literature: Novel  \\n07.10.2024  Monday  ELT 301  Introduction to Language Studies  \\n09.10.2024  Wednesday  ELT 302  Introduction to English Language Teaching  \\n \\n \\n\\uf0ab\\uf0ab\\uf0ab N.B. No change of any kind is possible. \\uf0ab\\uf0ab\\uf0ab \\nDepartment of English  \\nMidterm  Examination Schedule  (Summer -2024)  \\n \\n \\nBA (Honors) 7th Semester  \\nDate  Day Course Code  Course Title  Time  \\n30.09.2024  Monday  ENGL 307  20th Century Literature: Poetry  \\n10:00am -11:30am  02.10.2024  Wednesday  ELT 301  Introduction to Language Studies  \\n05.10.2024  Saturday  ELT 302  Introduction to English Language Tea ching  \\n07.10.2024  Monday  ENGL 308  Advanced Reading and Writing  \\n09.10.2024  Wednesday  ENGL 309  American Literature: Poetry  \\n \\nBA (Honors) 8th Semester', '07.10.2024  Monday  ENGL 308  Advanced Reading and Writing  \\n09.10.2024  Wednesday  ENGL 309  American Literature: Poetry  \\n \\nBA (Honors) 8th Semester  \\nDate  Day Course Code  Course Title  Time  \\n30.09.2024  Monday  ELT 401  English for the Media  \\n10:00am -11:30am  02.10.2024  Wednesday  ENGL 401  Literary Criticism I  \\n05.10.2024  Saturday  ENGL 402  Translation Studies  \\n06.10.2024  Sunday  ENGL 309  American Literature: Poetry  12:00pm -01:30pm  \\n07.10.2024  Monday  ENGL 403  Cultural Studies: An Introduction  10:00am -11:30am  09.10.2024  Wednesday  ENGL 404  Literary Criticism II  \\n \\nBA (Honors) 9th Semester  \\nDate  Day Course Code  Course Title  Time  \\n30.09.2024  Monday  ELT 401  English for the Media  \\n10:00am -11:30am  02.10.2024  Wednesday  ENGL 401  Literary Criticism I  \\n05.10.2024  Saturday  ENGL 402  Translation Studies  \\n07.10.2024  Monday  ENGL 403  Cultural Studies: An Introduction  \\n09.10.2024  Wednesday  ENGL 404  Literary Criticism II', '05.10.2024  Saturday  ENGL 402  Translation Studies  \\n07.10.2024  Monday  ENGL 403  Cultural Studies: An Introduction  \\n09.10.2024  Wednesday  ENGL 404  Literary Criticism II  \\nBA (Honors) 10th Semester  \\nDate  Day Course Code  Course Title  Time  \\n30.09.2024  Monday  ENGL 405  Shakespeare  03:00pm -04:30pm  02.10.2024  Wednesday  ENGL 406  American Literature: Novel  \\n03.10.2024  Thursday  ENGL 407  17th Century Literature  12:00pm -01:30pm  \\n05.10.2024  Saturday  ENGL 408  20th Century British Drama  \\n03:00pm -04:30pm  07.10.2024  Monday  ENGL 409  New Literatu res in English  \\n09.10.2024  Wednesday  ENGL 411  South Asian Writing in English  \\n09.10.2024  Wednesday  ENG 41 0 Thesis  \\n \\n \\n \\nMasters 1st Semester  \\nDate  Day Course Code  Course Title  Time  \\n29.09.2024  Sunday  ENG 5101  Shakespeare  \\n03:00pm -04:00pm  01.10.2024  Tuesday  ENG 5102  World Classics in Translation  \\n03.10.2024  Thursday  ENG 5103  20th Century American Literature', '29.09.2024  Sunday  ENG 5101  Shakespeare  \\n03:00pm -04:00pm  01.10.2024  Tuesday  ENG 5102  World Classics in Translation  \\n03.10.2024  Thursday  ENG 5103  20th Century American Literature  \\n05.10.2024  Satu rday  ENG 5104  20th Century English Literature  12:00pm -01:00pm  \\n06.10.2024  Sunday  ENG 5105  Post Communicative Developments in ELT  03:00p m-04:00pm  08.10.2024  Tuesday  ENG 5106  Practice in Evaluation and Design of Language Syllabus, Materials and Tests  \\n \\nMasters 2nd Semester  \\nDate  Day Course Code  Course Title  Time  \\n29.09.2024  Sunday  ENG 5201  Postcolonial Literature  \\n03:00pm -04:00pm  01.10.202 4 Tuesday  ENG 5202  Literary Theory  \\n03.10.2024  Thursday  ENG 5203  Cultural Studies  \\n05.10.2024  Saturday  ENG 5204  New Discourses in Literary Studies  12:00pm -01:00pm  \\n08.10.2024  Tuesday  ENG 5205  Teaching Practicum  03:00pm -04:00pm  \\n \\n\\uf0ab\\uf0ab\\uf0ab N.B. No change of any  kind is possible. \\uf0ab\\uf0ab\\uf0ab']\n"
     ]
    }
   ],
   "source": [
    "print(value[\"text_splitted\"])"
   ]
  },
  {
   "cell_type": "code",
   "execution_count": 27,
   "id": "cda62b5c",
   "metadata": {},
   "outputs": [
    {
     "name": "stderr",
     "output_type": "stream",
     "text": [
      "/tmp/ipykernel_10127/715666710.py:57: LangChainDeprecationWarning: The method `Chain.__call__` was deprecated in langchain 0.1.0 and will be removed in 1.0. Use :meth:`~invoke` instead.\n",
      "  response = self.chain({\"question\": question, \"chat_history\": self.chat_history})\n"
     ]
    },
    {
     "data": {
      "text/plain": [
       "\"Hi! It seems you're a student at the Department of English, and you have a course schedule for the summer semester of 2024. Which course or topic would you like to know more about or discuss? I'm here to help!\""
      ]
     },
     "execution_count": 27,
     "metadata": {},
     "output_type": "execute_result"
    }
   ],
   "source": [
    "chatbot.ask_question(\"Hi\")"
   ]
  },
  {
   "cell_type": "code",
   "execution_count": 30,
   "id": "55d5082e",
   "metadata": {},
   "outputs": [
    {
     "data": {
      "text/plain": [
       "'According to the provided schedule, the exam date and time for the ENG 1105 course, \"Introduction to Fiction\", is:\\n\\n* Date: 08.10.2024 (Tuesday)\\n* Time: Not specified in the provided schedule (note that the schedule only provides the time for ENG 1104, \"Introduction to Poetry\", which is 03:00pm -04:00pm, but does not provide the time for ENG 1105)'"
      ]
     },
     "execution_count": 30,
     "metadata": {},
     "output_type": "execute_result"
    }
   ],
   "source": [
    "chatbot.ask_question(\"ENG 1105 course exam date and time\")"
   ]
  },
  {
   "cell_type": "code",
   "execution_count": 31,
   "id": "491e913b",
   "metadata": {},
   "outputs": [
    {
     "data": {
      "text/plain": [
       "'To answer this question, I would need to know which course you are referring to. The schedule provided lists multiple courses and their corresponding dates and times. Could you please specify the course code and title of the course for which you want to know the exam date and time?'"
      ]
     },
     "execution_count": 31,
     "metadata": {},
     "output_type": "execute_result"
    }
   ],
   "source": [
    "chatbot.ask_question(\"History of the Emergence of Bangladesh course exam date and time\")"
   ]
  },
  {
   "cell_type": "code",
   "execution_count": 32,
   "id": "7fd94d2f",
   "metadata": {},
   "outputs": [
    {
     "data": {
      "text/plain": [
       "'According to the given schedule, the exam date and time for the BAN 1001 course are:\\n\\nDate: 07.10.2024 (Monday)\\nTime: 12:00pm -01:00pm'"
      ]
     },
     "execution_count": 32,
     "metadata": {},
     "output_type": "execute_result"
    }
   ],
   "source": [
    "chatbot.ask_question(\"BAN 1001\")"
   ]
  },
  {
   "cell_type": "code",
   "execution_count": 33,
   "id": "ace6fc7d",
   "metadata": {},
   "outputs": [
    {
     "name": "stderr",
     "output_type": "stream",
     "text": [
      "huggingface/tokenizers: The current process just got forked, after parallelism has already been used. Disabling parallelism to avoid deadlocks...\n",
      "To disable this warning, you can either:\n",
      "\t- Avoid using `tokenizers` before the fork if possible\n",
      "\t- Explicitly set the environment variable TOKENIZERS_PARALLELISM=(true | false)\n"
     ]
    }
   ],
   "source": [
    "# !pip freeze > requirements.txt"
   ]
  },
  {
   "cell_type": "code",
   "execution_count": null,
   "id": "6093c345",
   "metadata": {},
   "outputs": [],
   "source": []
  },
  {
   "cell_type": "code",
   "execution_count": null,
   "id": "fe7b73a2",
   "metadata": {},
   "outputs": [],
   "source": []
  },
  {
   "cell_type": "code",
   "execution_count": null,
   "id": "91c41261",
   "metadata": {},
   "outputs": [],
   "source": []
  },
  {
   "cell_type": "code",
   "execution_count": null,
   "id": "c5eb1d09",
   "metadata": {},
   "outputs": [],
   "source": []
  },
  {
   "cell_type": "code",
   "execution_count": null,
   "id": "c134ab18",
   "metadata": {},
   "outputs": [],
   "source": []
  },
  {
   "cell_type": "code",
   "execution_count": null,
   "id": "439481f3",
   "metadata": {},
   "outputs": [],
   "source": []
  },
  {
   "cell_type": "code",
   "execution_count": null,
   "id": "0e0b44c8",
   "metadata": {},
   "outputs": [],
   "source": []
  },
  {
   "cell_type": "code",
   "execution_count": null,
   "id": "95d4f8aa",
   "metadata": {},
   "outputs": [],
   "source": []
  },
  {
   "cell_type": "code",
   "execution_count": null,
   "id": "311db9bb",
   "metadata": {},
   "outputs": [],
   "source": []
  },
  {
   "cell_type": "code",
   "execution_count": null,
   "id": "18a48eaf",
   "metadata": {},
   "outputs": [],
   "source": []
  },
  {
   "cell_type": "code",
   "execution_count": null,
   "id": "701ea834",
   "metadata": {},
   "outputs": [],
   "source": []
  },
  {
   "cell_type": "code",
   "execution_count": null,
   "id": "8c8d3c32",
   "metadata": {},
   "outputs": [],
   "source": []
  },
  {
   "cell_type": "code",
   "execution_count": null,
   "id": "219c8b42",
   "metadata": {},
   "outputs": [],
   "source": []
  },
  {
   "cell_type": "code",
   "execution_count": null,
   "id": "711e12ce",
   "metadata": {},
   "outputs": [],
   "source": []
  },
  {
   "cell_type": "code",
   "execution_count": null,
   "id": "91e9775e",
   "metadata": {},
   "outputs": [],
   "source": []
  },
  {
   "cell_type": "code",
   "execution_count": null,
   "id": "2502c190",
   "metadata": {},
   "outputs": [],
   "source": []
  },
  {
   "cell_type": "code",
   "execution_count": null,
   "id": "0786128d",
   "metadata": {},
   "outputs": [],
   "source": []
  },
  {
   "cell_type": "code",
   "execution_count": null,
   "id": "814a439a",
   "metadata": {},
   "outputs": [],
   "source": []
  },
  {
   "cell_type": "code",
   "execution_count": null,
   "id": "cf5fe61d",
   "metadata": {},
   "outputs": [],
   "source": []
  },
  {
   "cell_type": "code",
   "execution_count": null,
   "id": "d91e1fd4",
   "metadata": {},
   "outputs": [],
   "source": []
  },
  {
   "cell_type": "code",
   "execution_count": null,
   "id": "f72724d3",
   "metadata": {},
   "outputs": [],
   "source": []
  },
  {
   "cell_type": "code",
   "execution_count": null,
   "id": "8e4c7234",
   "metadata": {},
   "outputs": [],
   "source": []
  },
  {
   "cell_type": "code",
   "execution_count": null,
   "id": "29dd92f8",
   "metadata": {},
   "outputs": [],
   "source": []
  },
  {
   "cell_type": "code",
   "execution_count": null,
   "id": "0a8bd9b8",
   "metadata": {},
   "outputs": [],
   "source": []
  },
  {
   "cell_type": "code",
   "execution_count": null,
   "id": "07221103",
   "metadata": {},
   "outputs": [],
   "source": []
  },
  {
   "cell_type": "code",
   "execution_count": null,
   "id": "5d0285c6",
   "metadata": {},
   "outputs": [],
   "source": []
  },
  {
   "cell_type": "code",
   "execution_count": null,
   "id": "4e607838",
   "metadata": {},
   "outputs": [],
   "source": []
  },
  {
   "cell_type": "code",
   "execution_count": null,
   "id": "dce5dd45",
   "metadata": {},
   "outputs": [],
   "source": []
  },
  {
   "cell_type": "code",
   "execution_count": null,
   "id": "1b7f4321",
   "metadata": {},
   "outputs": [],
   "source": []
  },
  {
   "cell_type": "code",
   "execution_count": null,
   "id": "e67494b0",
   "metadata": {},
   "outputs": [],
   "source": []
  },
  {
   "cell_type": "code",
   "execution_count": null,
   "id": "84165a8a",
   "metadata": {},
   "outputs": [],
   "source": []
  },
  {
   "cell_type": "code",
   "execution_count": null,
   "id": "6eff5ebc",
   "metadata": {},
   "outputs": [],
   "source": []
  },
  {
   "cell_type": "code",
   "execution_count": null,
   "id": "b1d439c7",
   "metadata": {},
   "outputs": [],
   "source": []
  },
  {
   "cell_type": "code",
   "execution_count": null,
   "id": "65bef142",
   "metadata": {},
   "outputs": [],
   "source": []
  },
  {
   "cell_type": "code",
   "execution_count": null,
   "id": "f3e4c06e",
   "metadata": {},
   "outputs": [],
   "source": [
    "\n"
   ]
  }
 ],
 "metadata": {
  "kernelspec": {
   "display_name": "Python 3 (ipykernel)",
   "language": "python",
   "name": "python3"
  },
  "language_info": {
   "codemirror_mode": {
    "name": "ipython",
    "version": 3
   },
   "file_extension": ".py",
   "mimetype": "text/x-python",
   "name": "python",
   "nbconvert_exporter": "python",
   "pygments_lexer": "ipython3",
   "version": "3.11.5"
  }
 },
 "nbformat": 4,
 "nbformat_minor": 5
}
